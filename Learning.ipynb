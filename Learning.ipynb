{
  "nbformat": 4,
  "nbformat_minor": 0,
  "metadata": {
    "colab": {
      "provenance": [],
      "authorship_tag": "ABX9TyNH9w354GZ9bCavvqYD2hvn"
    },
    "kernelspec": {
      "name": "python3",
      "display_name": "Python 3"
    },
    "language_info": {
      "name": "python"
    }
  },
  "cells": [
    {
      "cell_type": "code",
      "execution_count": 2,
      "metadata": {
        "id": "qO29vGOHS8Q8",
        "outputId": "1c13749c-a655-4904-8c77-36b748d4847a",
        "colab": {
          "base_uri": "https://localhost:8080/"
        }
      },
      "outputs": [
        {
          "output_type": "stream",
          "name": "stdout",
          "text": [
            "Looking in indexes: https://pypi.org/simple, https://us-python.pkg.dev/colab-wheels/public/simple/\n",
            "Collecting pyspark\n",
            "  Downloading pyspark-3.3.0.tar.gz (281.3 MB)\n",
            "\u001b[K     |████████████████████████████████| 281.3 MB 45 kB/s \n",
            "\u001b[?25hCollecting py4j==0.10.9.5\n",
            "  Downloading py4j-0.10.9.5-py2.py3-none-any.whl (199 kB)\n",
            "\u001b[K     |████████████████████████████████| 199 kB 54.1 MB/s \n",
            "\u001b[?25hBuilding wheels for collected packages: pyspark\n",
            "  Building wheel for pyspark (setup.py) ... \u001b[?25l\u001b[?25hdone\n",
            "  Created wheel for pyspark: filename=pyspark-3.3.0-py2.py3-none-any.whl size=281764026 sha256=1f3bc7e049fb688b31950232452e504badb9e4e293f2a85d8210ec16cff7e74d\n",
            "  Stored in directory: /root/.cache/pip/wheels/7a/8e/1b/f73a52650d2e5f337708d9f6a1750d451a7349a867f928b885\n",
            "Successfully built pyspark\n",
            "Installing collected packages: py4j, pyspark\n",
            "Successfully installed py4j-0.10.9.5 pyspark-3.3.0\n"
          ]
        }
      ],
      "source": [
        "!pip3 install pyspark"
      ]
    },
    {
      "cell_type": "markdown",
      "source": [
        "**Spark Configuration**"
      ],
      "metadata": {
        "id": "lOHym6bSZDM4"
      }
    },
    {
      "cell_type": "code",
      "source": [
        "from pyspark import SparkContext,SparkConf\n",
        "conf=SparkConf().setAppName(\"test1\").setMaster(\"local[*]\") # The star mentions how many cores we want to use. * means use maximum possible cores.\n",
        "sc=SparkContext(conf=conf)"
      ],
      "metadata": {
        "id": "5hK7Il0EYqcN"
      },
      "execution_count": 3,
      "outputs": []
    },
    {
      "cell_type": "markdown",
      "source": [
        "**Create RDD's and Basic Concepts**"
      ],
      "metadata": {
        "id": "Fr5uri2JbjMX"
      }
    },
    {
      "cell_type": "code",
      "source": [
        "# Create random list\n",
        "import random\n",
        "\n",
        "random_list=random.sample(range(0,30),10)\n",
        "print(random_list)"
      ],
      "metadata": {
        "id": "0wNQN76PW4j7",
        "outputId": "3c048325-ddc2-47b5-87d3-c25e6f82c0db",
        "colab": {
          "base_uri": "https://localhost:8080/"
        }
      },
      "execution_count": 4,
      "outputs": [
        {
          "output_type": "stream",
          "name": "stdout",
          "text": [
            "[11, 1, 3, 9, 17, 19, 20, 6, 8, 27]\n"
          ]
        }
      ]
    },
    {
      "cell_type": "code",
      "source": [
        "# Create RDD\n",
        "rdd1=sc.parallelize(random_list,6)  # We create 4 partitions\n",
        "print(rdd1.getNumPartitions())\n",
        "print(rdd1.collect()) # This will collect data from executors and send it to driver. So, be careful while using actions which send output to driver."
      ],
      "metadata": {
        "id": "Ie0L2adFgeLk",
        "outputId": "e4bdb52e-1156-4d7f-ca54-80f73ba81abf",
        "colab": {
          "base_uri": "https://localhost:8080/"
        }
      },
      "execution_count": 10,
      "outputs": [
        {
          "output_type": "stream",
          "name": "stdout",
          "text": [
            "6\n",
            "[11, 1, 3, 9, 17, 19, 20, 6, 8, 27]\n"
          ]
        }
      ]
    },
    {
      "cell_type": "code",
      "source": [
        "# View rdd in each partition\n",
        "rdd1.glom().collect()"
      ],
      "metadata": {
        "id": "8kUHBD9QgrvT",
        "outputId": "3929c4b5-5927-42e3-f922-19eb91057e59",
        "colab": {
          "base_uri": "https://localhost:8080/"
        }
      },
      "execution_count": 17,
      "outputs": [
        {
          "output_type": "execute_result",
          "data": {
            "text/plain": [
              "[[11], [1, 3], [9, 17], [19], [20, 6], [8, 27]]"
            ]
          },
          "metadata": {},
          "execution_count": 17
        }
      ]
    }
  ]
}